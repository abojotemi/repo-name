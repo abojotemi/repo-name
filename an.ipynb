{
 "cells": [
  {
   "cell_type": "code",
   "execution_count": 2,
   "metadata": {},
   "outputs": [],
   "source": [
    "import numpy as np\n",
    "from numpy import ndarray\n",
    "from typing import Callable\n",
    "from contextlib import contextmanager\n"
   ]
  },
  {
   "cell_type": "code",
   "execution_count": null,
   "metadata": {},
   "outputs": [],
   "source": []
  },
  {
   "cell_type": "code",
   "execution_count": 16,
   "metadata": {},
   "outputs": [],
   "source": [
    "class Layer:\n",
    "    def forward(self, _input: ndarray, train=True) -> ndarray:\n",
    "        raise NotImplementedError(\"Forward propagation not implemented\")\n",
    "\n",
    "    def backward(self, prev_grad: ndarray) -> ndarray:\n",
    "        raise NotImplementedError(\"Backward propagation not implemented\")"
   ]
  },
  {
   "cell_type": "code",
   "execution_count": 17,
   "metadata": {},
   "outputs": [],
   "source": [
    "class WeightInitializer:\n",
    "    @staticmethod\n",
    "    def xavier_init(input_dim: int, output_dim: int) -> ndarray:\n",
    "        limit = np.sqrt(6 / (input_dim + output_dim))\n",
    "        return np.random.uniform(-limit, limit, size=(input_dim, output_dim))\n",
    "\n",
    "    @staticmethod\n",
    "    def he_init(input_dim: int, output_dim: int) -> ndarray:\n",
    "        stddev = np.sqrt(2 / input_dim)\n",
    "        return np.random.normal(0, stddev, size=(input_dim, output_dim))\n"
   ]
  },
  {
   "cell_type": "code",
   "execution_count": 44,
   "metadata": {},
   "outputs": [],
   "source": [
    "\n",
    "\n",
    "class Activation(Layer):\n",
    "    def __init__(self, func: Callable[[ndarray], ndarray], grad: Callable[[ndarray], ndarray]):\n",
    "        self.func = func\n",
    "        self.grad = grad\n",
    "    \n",
    "    def forward(self, _input: ndarray, train=True) -> ndarray:\n",
    "        if train:\n",
    "            self.input = _input\n",
    "        return self.func(_input)\n",
    "        \n",
    "    def backward(self, prev_grad: ndarray) -> ndarray:\n",
    "        \n",
    "        return prev_grad * self.grad(self.input)\n",
    "        \n",
    "class ReLU(Activation):\n",
    "    def __init__(self):\n",
    "        def func(x): return np.maximum(0, x)\n",
    "        def grad(x): return np.where(x > 0, 1, 0)\n",
    "        super().__init__(func,grad)\n",
    "        \n",
    "    def __repr__(self):\n",
    "        return \"ReLU()\"\n",
    "    \n",
    "class Sigmoid(Activation):\n",
    "    def __init__(self):\n",
    "        def func(x): return 1 / (1 + np.exp(-x))\n",
    "        def grad(x): return func(x) * (1 - func(x))\n",
    "        super().__init__(func,grad)\n",
    "    \n",
    "    def __repr__(self):\n",
    "        return \"Sigmoid()\"\n",
    "        \n",
    "class Dense(Layer):\n",
    "    def __init__(self, input_size: int, output_size: int, * , initializer: Callable[[int, int], ndarray] = WeightInitializer.he_init):\n",
    "        self.input_size = input_size\n",
    "        self.output_size = output_size\n",
    "        self.weights = initializer(input_size, output_size)\n",
    "        self.bias = np.zeros((1,output_size))\n",
    "        self.grad_weights: ndarray | None = None\n",
    "        self.grad_bias: ndarray | None = None\n",
    "        \n",
    "        \n",
    "    \n",
    "    def forward(self, _input: ndarray, train=True) -> ndarray:\n",
    "        if train:\n",
    "            self.input = _input\n",
    "        return _input.dot(self.weights) + self.bias\n",
    "    \n",
    "    def backward(self, prev_grad: ndarray) -> ndarray:\n",
    "        out_grad = prev_grad.dot(self.weights.T)\n",
    "        self.grad_weights = self.input.T.dot(prev_grad)\n",
    "        self.grad_bias = np.sum(prev_grad, axis=0, keepdims=True)\n",
    "        return out_grad\n",
    "\n",
    "    def __repr__(self):\n",
    "        return f\"Dense(input={self.input_size}, output={self.output_size})\""
   ]
  },
  {
   "cell_type": "code",
   "execution_count": 45,
   "metadata": {},
   "outputs": [],
   "source": [
    "class Loss:\n",
    "    def base(self, y_true: ndarray, y_pred: ndarray) -> ndarray:\n",
    "        raise NotImplementedError(\"Base loss function not implemented\")\n",
    "\n",
    "    def grad(self, y_true: ndarray, y_pred: ndarray) -> ndarray:\n",
    "        raise NotImplementedError(\"Loss gradient function not implemented\")\n",
    "    \n",
    "    "
   ]
  },
  {
   "cell_type": "code",
   "execution_count": 46,
   "metadata": {},
   "outputs": [],
   "source": [
    "class MSE(Loss):\n",
    "    def base(self, y_true: ndarray, y_pred: ndarray) -> ndarray:\n",
    "        return np.mean((y_true - y_pred)**2)\n",
    "    \n",
    "    def grad(self, y_true: ndarray, y_pred: ndarray) -> ndarray:\n",
    "        return 2 * (y_pred - y_true) / np.size(y_true) \n",
    "\n",
    "    def __repr__(self):\n",
    "        return \"MSE()\"\n",
    "\n",
    "\n",
    "class BCE(Loss):\n",
    "    def base(self, y_true: ndarray, y_pred: ndarray) -> ndarray:\n",
    "        return y_true * np.log(y_pred + 1e-9) + (1-y_true) * np.log(1 - y_pred + 1e-9)\n",
    "    \n",
    "    def grad(self, y_true: ndarray, y_pred: ndarray) -> ndarray:\n",
    "        return (y_pred - y_true) / np.size(y_true)\n",
    "    def __repr__(self):\n",
    "        return \"BCE()\""
   ]
  },
  {
   "cell_type": "code",
   "execution_count": 151,
   "metadata": {},
   "outputs": [],
   "source": [
    "\n",
    "class Optimizer:\n",
    "    def __init__(self, layers: list[Layer], lr: float):\n",
    "        self.layers: list[Dense] = [layer for layer in layers if isinstance(layer, Dense)]\n",
    "        self.lr = lr\n",
    "    def step(self, gradient: ndarray):\n",
    "        raise NotImplementedError(\"Optimizer Step function not implemented\")\n",
    "    \n",
    "class SGD(Optimizer):\n",
    "    def __init__(self, layers: list[Layer], lr: float = 0.1, momentum: float = 0.0):\n",
    "        self.momentum = momentum\n",
    "        self.velocity = {}\n",
    "        super().__init__(layers, lr)\n",
    "    \n",
    "    def step(self):\n",
    "        for idx, layer in enumerate(self.layers):\n",
    "            if idx not in self.velocity:\n",
    "                self.velocity[idx] = {\n",
    "                    'weights': np.zeros_like(layer.weights),\n",
    "                    'bias': np.zeros_like(layer.bias)\n",
    "                }\n",
    "            self.velocity[idx]['weights'] = self.momentum * self.velocity[idx]['weights'] - self.lr * layer.grad_weights\n",
    "            self.velocity[idx]['bias'] = self.momentum * self.velocity[idx]['bias'] - self.lr * layer.grad_bias\n",
    "            layer.weights += self.velocity[idx]['weights']\n",
    "            layer.bias += self.velocity[idx]['bias']\n",
    "            \n",
    "    def __repr__(self):\n",
    "        return f\"SGD(lr={self.lr}, momentum={self.momentum})\"\n",
    "    \n",
    "class RMSProp(Optimizer):\n",
    "    def __init__(self, layers: list[Layer], lr: float = 0.1, beta = 0.9, epsilon: float = 1e-8):\n",
    "        self.beta = beta\n",
    "        self.epsilon = epsilon\n",
    "        self.cache = {}\n",
    "        super().__init__(layers, lr)\n",
    "        \n",
    "    def step(self):\n",
    "        for idx, layer in enumerate(self.layers):\n",
    "            if idx not in self.cache:\n",
    "                self.cache[idx] = {\n",
    "                    'weights': np.zeros_like(layer.weights),\n",
    "                    'bias': np.zeros_like(layer.bias)\n",
    "                }\n",
    "            self.cache[idx]['weights'] = (self.beta * self.cache[idx]['weights'] + (1 - self.beta) * (layer.grad_weights ** 2))\n",
    "            self.cache[idx]['bias'] = (self.beta * self.cache[idx]['bias'] + (1 - self.beta) * (layer.grad_bias ** 2))\n",
    "            layer.weights -= self.lr * layer.grad_weights  / (np.sqrt(self.cache[idx]['weights'] ) + self.epsilon)\n",
    "            layer.bias -= self.lr * layer.grad_bias  / (np.sqrt(self.cache[idx]['bias'] ) + self.epsilon)\n",
    "            \n",
    "    def __repr__(self):\n",
    "        return f\"RMSProp(lr={self.lr}, beta={self.beta})\"\n",
    "\n",
    "class Adam(Optimizer):\n",
    "    def __init__(self, layers: list[Layer], lr: float = 0.1, beta1: float = 0.9, beta2: float = 0.99, epsilon: float = 1e-8):\n",
    "        self.beta1 = beta1\n",
    "        self.beta2 = beta2\n",
    "        self.epsilon = epsilon\n",
    "        self.momentum = {}\n",
    "        self.velocity = {}\n",
    "        self.count = 0\n",
    "        super().__init__(layers, lr)\n",
    "    \n",
    "    def step(self):\n",
    "        self.count += 1\n",
    "        for idx, layer in enumerate(self.layers):\n",
    "            if idx not in self.momentum:\n",
    "                self.momentum[idx] = {\n",
    "                    'weights': np.zeros_like(layer.weights),\n",
    "                    'bias': np.zeros_like(layer.bias)\n",
    "                }\n",
    "            if idx not in self.velocity:\n",
    "                self.velocity[idx] = {\n",
    "                    'weights': np.zeros_like(layer.weights),\n",
    "                    'bias': np.zeros_like(layer.bias)\n",
    "                }\n",
    "        \n",
    "            self.velocity[idx]['weights'] = (self.beta2 * self.velocity[idx]['weights']) + (1 - self.beta2) * (layer.grad_weights ** 2)\n",
    "            self.velocity[idx]['bias'] = (self.beta2 * self.velocity[idx]['bias']) + (1 - self.beta2) * (layer.grad_bias ** 2)\n",
    "\n",
    "            self.momentum[idx]['weights'] = (self.beta1 * self.momentum[idx]['weights']) + (1 - self.beta1) * (layer.grad_weights)\n",
    "            self.momentum[idx]['bias'] = (self.beta1 * self.momentum[idx]['bias']) + (1 - self.beta1) * (layer.grad_bias)\n",
    "            \n",
    "            momentum_denominator = (1 - self.beta1 ** self.count)\n",
    "            weights_momentum = self.momentum[idx]['weights'] / momentum_denominator\n",
    "            bias_momentum = self.momentum[idx]['bias'] / momentum_denominator\n",
    "            \n",
    "            \n",
    "            velocity_denominator = (1 - self.beta2 ** self.count)\n",
    "            weights_velocity = self.velocity[idx]['weights'] / velocity_denominator\n",
    "            bias_velocity = self.velocity[idx]['bias'] / velocity_denominator\n",
    "\n",
    "            layer.weights -= self.lr * weights_momentum/(np.sqrt(weights_velocity) + self.epsilon)\n",
    "            layer.bias -= self.lr * bias_momentum/(np.sqrt(bias_velocity) + self.epsilon)\n",
    "    def __repr__(self):\n",
    "        return f\"Adam(lr={self.lr}, beta1={self.beta1}, beta2={self.beta2})\""
   ]
  },
  {
   "cell_type": "code",
   "execution_count": 152,
   "metadata": {},
   "outputs": [],
   "source": [
    "\n",
    "class NN:\n",
    "    def __init__(self, layers: list[Layer], loss: Loss = MSE ,*, optimizer: Optimizer | None = None):\n",
    "        self.layers = layers\n",
    "        self.training = True\n",
    "        self.loss: Loss = loss()\n",
    "        self.optimizer: Optimizer | SGD = optimizer or SGD(self.layers)\n",
    "    def forward(self, _input: ndarray) -> ndarray:\n",
    "        output = _input\n",
    "        for layer in self.layers:\n",
    "            output = layer.forward(output, self.training)\n",
    "        return output\n",
    "    \n",
    "    def backward(self, grad: ndarray) -> ndarray:\n",
    "        gradient = grad\n",
    "        for layer in self.layers[::-1]:\n",
    "            gradient = layer.backward(gradient)\n",
    "    @contextmanager\n",
    "    def no_grad(self):\n",
    "        self.training = False\n",
    "        yield\n",
    "        self.training = True\n",
    "    \n",
    "    def train(self, X: ndarray, y: ndarray, epochs: int = 1000, batch_size: int = 32) -> ndarray:\n",
    "        inputs,targets = X,y\n",
    "        N = inputs.shape[0]\n",
    "        if len(targets.shape) == 1:\n",
    "            targets = targets[:,np.newaxis]\n",
    "        loss_per_epochs = np.zeros(epochs)\n",
    "        for e in range(epochs):\n",
    "            batch_idx = np.random.permutation(N)\n",
    "            batch_iter = (N // batch_size) + (1 if N % batch_size else 0)\n",
    "            cumm_loss = 0\n",
    "            for b in range(batch_iter):\n",
    "                batch = batch_idx[b * batch_size: (b+1) * batch_size]\n",
    "                batch_inputs, batch_targets = inputs[batch,:], targets[batch,:]\n",
    "                batch_output = self.forward(batch_inputs)\n",
    "                cumm_loss += self.loss.base(batch_targets, batch_output)\n",
    "                gradient = self.loss.grad(batch_targets, batch_output)\n",
    "                self.backward(gradient)\n",
    "                self.optimizer.step()\n",
    "            loss_per_epochs[e] = cumm_loss / batch_iter\n",
    "        return loss_per_epochs\n",
    "        \n",
    "    def __call__(self, _input: ndarray) -> ndarray:\n",
    "        return self.forward(_input)\n",
    "\n",
    "                \n",
    "                "
   ]
  },
  {
   "cell_type": "code",
   "execution_count": 153,
   "metadata": {},
   "outputs": [],
   "source": [
    "nn = NN([\n",
    "    Dense(2, 7),\n",
    "    ReLU(),\n",
    "    Dense(7, 1, initializer=WeightInitializer.xavier_init),\n",
    "    Sigmoid()\n",
    "])\n",
    "optimizer = SGD(nn.layers)\n",
    "nn.optimizer = optimizer"
   ]
  },
  {
   "cell_type": "code",
   "execution_count": 163,
   "metadata": {},
   "outputs": [],
   "source": [
    "X = np.array([[0, 0], [0, 1], [1, 0], [1, 1]])\n",
    "y = np.array([0,0,0,1])"
   ]
  },
  {
   "cell_type": "code",
   "execution_count": 164,
   "metadata": {},
   "outputs": [],
   "source": [
    "loss = nn.train(X,y, epochs=100)"
   ]
  },
  {
   "cell_type": "code",
   "execution_count": 165,
   "metadata": {},
   "outputs": [],
   "source": [
    "import matplotlib.pyplot as plt"
   ]
  },
  {
   "cell_type": "code",
   "execution_count": 166,
   "metadata": {},
   "outputs": [
    {
     "data": {
      "text/plain": [
       "[<matplotlib.lines.Line2D at 0x73a55e8bf3b0>]"
      ]
     },
     "execution_count": 166,
     "metadata": {},
     "output_type": "execute_result"
    },
    {
     "data": {
      "image/png": "[encoded data removed]",
      "text/plain": [
       "<Figure size 640x480 with 1 Axes>"
      ]
     },
     "metadata": {},
     "output_type": "display_data"
    }
   ],
   "source": [
    "plt.plot(loss)"
   ]
  },
  {
   "cell_type": "code",
   "execution_count": 167,
   "metadata": {},
   "outputs": [
    {
     "name": "stdout",
     "output_type": "stream",
     "text": [
      "[[0.]\n",
      " [0.]\n",
      " [0.]\n",
      " [0.]]\n",
      "[[4.33538978e-07]\n",
      " [1.38775556e-13]\n",
      " [1.31158032e-11]\n",
      " [1.76680965e-18]]\n"
     ]
    }
   ],
   "source": [
    "with nn.no_grad():\n",
    "    res = nn(X)\n",
    "    print(np.round(res))\n",
    "    print(res)\n",
    "    "
   ]
  },
  {
   "cell_type": "code",
   "execution_count": 177,
   "metadata": {},
   "outputs": [],
   "source": [
    "optimizers = {\n",
    "    \"SGD\": SGD,\n",
    "    \"RMSProp\": RMSProp,\n",
    "    \"Adam\": Adam\n",
    "}\n",
    "losses = []\n",
    "for name, optimizer in optimizers.items():\n",
    "    nn = NN([\n",
    "    Dense(2, 7),\n",
    "    ReLU(),\n",
    "    Dense(7, 1, initializer=WeightInitializer.xavier_init),\n",
    "    Sigmoid()\n",
    "])\n",
    "    nn.optimizer = optimizer(nn.layers)\n",
    "    loss = nn.train(X, y, epochs=100)\n",
    "    losses.append(loss)"
   ]
  },
  {
   "cell_type": "code",
   "execution_count": 178,
   "metadata": {},
   "outputs": [
    {
     "data": {
      "image/png": "[encoded data removed]",
      "text/plain": [
       "<Figure size 2100x900 with 3 Axes>"
      ]
     },
     "metadata": {},
     "output_type": "display_data"
    }
   ],
   "source": [
    "from matplotlib.gridspec import GridSpec\n",
    "fig = plt.figure(figsize=(21,9))\n",
    "c = ['r', 'g', 'b']\n",
    "names = list(optimizers.keys())\n",
    "for i,loss in enumerate(losses):\n",
    "    gs = GridSpec(1,3)\n",
    "    ax = fig.add_subplot(gs[0,i])\n",
    "    ax.plot(loss, color=c[i])\n",
    "    ax.set_title(names[i])"
   ]
  },
  {
   "cell_type": "code",
   "execution_count": null,
   "metadata": {},
   "outputs": [],
   "source": []
  },
  {
   "cell_type": "code",
   "execution_count": null,
   "metadata": {},
   "outputs": [],
   "source": []
  }
 ],
 "metadata": {
  "kernelspec": {
   "display_name": "usr",
   "language": "python",
   "name": "python3"
  },
  "language_info": {
   "codemirror_mode": {
    "name": "ipython",
    "version": 3
   },
   "file_extension": ".py",
   "mimetype": "text/x-python",
   "name": "python",
   "nbconvert_exporter": "python",
   "pygments_lexer": "ipython3",
   "version": "3.12.3"
  }
 },
 "nbformat": 4,
 "nbformat_minor": 2
}
